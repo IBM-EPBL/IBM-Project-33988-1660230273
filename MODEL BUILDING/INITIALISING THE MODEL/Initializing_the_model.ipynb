{
  "nbformat": 4,
  "nbformat_minor": 0,
  "metadata": {
    "colab": {
      "provenance": [],
      "collapsed_sections": []
    },
    "kernelspec": {
      "name": "python3",
      "display_name": "Python 3"
    },
    "language_info": {
      "name": "python"
    }
  },
  "cells": [
    {
      "cell_type": "markdown",
      "source": [
        "Importing The ImageDataGenerator Library\n"
      ],
      "metadata": {
        "id": "JDH3TagKMHCi"
      }
    },
    {
      "cell_type": "code",
      "source": [
        "import keras\n",
        "from keras.preprocessing.image import ImageDataGenerator"
      ],
      "metadata": {
        "id": "nYnn1DcvMKGo"
      },
      "execution_count": null,
      "outputs": []
    },
    {
      "cell_type": "markdown",
      "source": [
        "Define the parameters/arguments for ImageDataGenerator class"
      ],
      "metadata": {
        "id": "xUIFn43DMPyq"
      }
    },
    {
      "cell_type": "code",
      "source": [
        "train_datagen=ImageDataGenerator(rescale=1./255,shear_range=0.2,\n",
        "rotation_range=180,zoom_range=0.2, horizontal_flip=True) test_datagen=ImageDataGenerator(rescale=1./255)"
      ],
      "metadata": {
        "id": "d2jQmaTNMS-H"
      },
      "execution_count": null,
      "outputs": []
    },
    {
      "cell_type": "markdown",
      "source": [
        "Applying ImageDataGenerator functionality to trainset"
      ],
      "metadata": {
        "id": "YOBBrq-TMX9o"
      }
    },
    {
      "cell_type": "code",
      "source": [
        "x_train=train_datagen.flow_from_directory(r'/content/drive/MyDrive/Dataset/train_set',\n",
        "target_size=(128,128),batch_size=32, class_mode='binary')"
      ],
      "metadata": {
        "id": "iMdjxfBfMccA"
      },
      "execution_count": null,
      "outputs": []
    },
    {
      "cell_type": "markdown",
      "source": [
        "Found 436 images belonging to 2 classes."
      ],
      "metadata": {
        "id": "Z_hURy3gMhBo"
      }
    },
    {
      "cell_type": "markdown",
      "source": [
        "Applying ImageDataGenerator functionality to testset"
      ],
      "metadata": {
        "id": "e8rPXYoAMmYI"
      }
    },
    {
      "cell_type": "code",
      "source": [
        "x_test=test_datagen.flow_from_directory(r'/content/drive/MyDrive/Dataset/test_set',\n",
        "target_size=(128,128),batch_size=32, class_mode='binary')"
      ],
      "metadata": {
        "id": "JpcnSikfMr0I"
      },
      "execution_count": null,
      "outputs": []
    },
    {
      "cell_type": "markdown",
      "source": [
        "Found 121 images belonging to 2 classes"
      ],
      "metadata": {
        "id": "4xh15UsxMut2"
      }
    },
    {
      "cell_type": "markdown",
      "source": [
        "Import model building libraries"
      ],
      "metadata": {
        "id": "5S_tP8YuMx5I"
      }
    },
    {
      "cell_type": "code",
      "source": [
        "from keras.models import Sequential\n",
        "from keras.layers import Dense\n",
        "from keras.layers import Convolution2D\n",
        "from keras.layers import MaxPooling2D\n",
        "from keras.layers import Flatten import warnings warnings.filterwarnings('ignore')"
      ],
      "metadata": {
        "id": "InoY-MBsM3S5"
      },
      "execution_count": null,
      "outputs": []
    },
    {
      "cell_type": "markdown",
      "source": [
        "Initializing the model"
      ],
      "metadata": {
        "id": "1UOAGgskQrAf"
      }
    },
    {
      "cell_type": "code",
      "source": [
        "model=Sequential()"
      ],
      "metadata": {
        "id": "cfqpo68zQsCP"
      },
      "execution_count": null,
      "outputs": []
    }
  ]
}