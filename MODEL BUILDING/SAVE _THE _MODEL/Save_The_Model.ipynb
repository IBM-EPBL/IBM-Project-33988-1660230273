{
  "nbformat": 4,
  "nbformat_minor": 0,
  "metadata": {
    "colab": {
      "provenance": [],
      "collapsed_sections": []
    },
    "kernelspec": {
      "name": "python3",
      "display_name": "Python 3"
    },
    "language_info": {
      "name": "python"
    }
  },
  "cells": [
    {
      "cell_type": "markdown",
      "source": [
        "Importing The ImageDataGenerator Library\n"
      ],
      "metadata": {
        "id": "JDH3TagKMHCi"
      }
    },
    {
      "cell_type": "code",
      "source": [
        "import keras\n",
        "from keras.preprocessing.image import ImageDataGenerator"
      ],
      "metadata": {
        "id": "nYnn1DcvMKGo"
      },
      "execution_count": null,
      "outputs": []
    },
    {
      "cell_type": "markdown",
      "source": [
        "Define the parameters/arguments for ImageDataGenerator class"
      ],
      "metadata": {
        "id": "xUIFn43DMPyq"
      }
    },
    {
      "cell_type": "code",
      "source": [
        "train_datagen=ImageDataGenerator(rescale=1./255,shear_range=0.2,\n",
        "rotation_range=180,zoom_range=0.2, horizontal_flip=True) test_datagen=ImageDataGenerator(rescale=1./255)"
      ],
      "metadata": {
        "id": "d2jQmaTNMS-H"
      },
      "execution_count": null,
      "outputs": []
    },
    {
      "cell_type": "markdown",
      "source": [
        "Applying ImageDataGenerator functionality to trainset"
      ],
      "metadata": {
        "id": "YOBBrq-TMX9o"
      }
    },
    {
      "cell_type": "code",
      "source": [
        "x_train=train_datagen.flow_from_directory(r'/content/drive/MyDrive/Dataset/train_set',\n",
        "target_size=(128,128),batch_size=32, class_mode='binary')"
      ],
      "metadata": {
        "id": "iMdjxfBfMccA"
      },
      "execution_count": null,
      "outputs": []
    },
    {
      "cell_type": "markdown",
      "source": [
        "Found 436 images belonging to 2 classes."
      ],
      "metadata": {
        "id": "Z_hURy3gMhBo"
      }
    },
    {
      "cell_type": "markdown",
      "source": [
        "Applying ImageDataGenerator functionality to testset"
      ],
      "metadata": {
        "id": "e8rPXYoAMmYI"
      }
    },
    {
      "cell_type": "code",
      "source": [
        "x_test=test_datagen.flow_from_directory(r'/content/drive/MyDrive/Dataset/test_set',\n",
        "target_size=(128,128),batch_size=32, class_mode='binary')"
      ],
      "metadata": {
        "id": "JpcnSikfMr0I"
      },
      "execution_count": null,
      "outputs": []
    },
    {
      "cell_type": "markdown",
      "source": [
        "Found 121 images belonging to 2 classes"
      ],
      "metadata": {
        "id": "4xh15UsxMut2"
      }
    },
    {
      "cell_type": "markdown",
      "source": [
        "Import model building libraries"
      ],
      "metadata": {
        "id": "5S_tP8YuMx5I"
      }
    },
    {
      "cell_type": "code",
      "source": [
        "from keras.models import Sequential\n",
        "from keras.layers import Dense\n",
        "from keras.layers import Convolution2D\n",
        "from keras.layers import MaxPooling2D\n",
        "from keras.layers import Flatten import warnings warnings.filterwarnings('ignore')"
      ],
      "metadata": {
        "id": "InoY-MBsM3S5"
      },
      "execution_count": null,
      "outputs": []
    },
    {
      "cell_type": "markdown",
      "source": [
        "Initializing the model"
      ],
      "metadata": {
        "id": "1UOAGgskQrAf"
      }
    },
    {
      "cell_type": "code",
      "source": [
        "model=Sequential()"
      ],
      "metadata": {
        "id": "cfqpo68zQsCP"
      },
      "execution_count": null,
      "outputs": []
    },
    {
      "cell_type": "markdown",
      "source": [
        "Add CNN Layer"
      ],
      "metadata": {
        "id": "jm_NmYLiRMMI"
      }
    },
    {
      "cell_type": "code",
      "source": [
        "model.add(Convolution2D(32, (3,3),input_shape=(128,128,3),activation='relu'))\n",
        "model.add(MaxPooling2D(pool_size=(2,2)))\n",
        "model.add(Flatten())"
      ],
      "metadata": {
        "id": "_Fg2o-q3RNTI"
      },
      "execution_count": null,
      "outputs": []
    },
    {
      "cell_type": "markdown",
      "source": [
        "Add Hidden Layer"
      ],
      "metadata": {
        "id": "LjHkYlowRdI4"
      }
    },
    {
      "cell_type": "code",
      "source": [
        "model.add(Dense(150,activation='relu'))\n",
        "model.add(Dense(1,activation='sigmoid'))"
      ],
      "metadata": {
        "id": "DLyhGQOaRgNJ"
      },
      "execution_count": null,
      "outputs": []
    },
    {
      "cell_type": "markdown",
      "source": [
        "Configure the learning process"
      ],
      "metadata": {
        "id": "yykoK0U8RpHp"
      }
    },
    {
      "cell_type": "code",
      "source": [
        "model.compile(loss='binary_crossentropy',optimizer=\"adam\",metrics=[\"ac curacy\"])"
      ],
      "metadata": {
        "id": "Y37ZJnzIR0do"
      },
      "execution_count": null,
      "outputs": []
    },
    {
      "cell_type": "markdown",
      "source": [
        "Train the model"
      ],
      "metadata": {
        "id": "65Lk7DdpR3P5"
      }
    },
    {
      "cell_type": "code",
      "source": [
        "model.fit_generator(x_train,steps_per_epoch=14,epochs=10,validation_da ta=x_test,validation_steps=4)\n",
        "Epoch 1/10\n",
        "14/14 [==============================] - 97s 7s/step - loss: 1.3060 -\n",
        "accuracy: 0.7775 - val_loss: 0.5513 - val_accuracy: 0.8512 Epoch 2/10\n",
        "14/14 [==============================] - 26s 2s/step - loss: 0.3178 -\n",
        "accuracy: 0.8807 - val_loss: 0.1299 - val_accuracy: 0.9421 Epoch 3/10\n",
        "14/14 [==============================] - 26s 2s/step - loss: 0.2226 -\n",
        "accuracy: 0.9106 - val_loss: 0.1311 - val_accuracy: 0.9421 Epoch 4/10\n",
        "14/14 [==============================] - 31s 2s/step - loss: 0.1836 -\n",
        "accuracy: 0.9174 - val_loss: 0.1129 - val_accuracy: 0.9339 Epoch 5/10\n",
        "14/14 [==============================] - 30s 2s/step - loss: 0.1675 -\n",
        "accuracy: 0.9243 - val_loss: 0.0925 - val_accuracy: 0.9669 Epoch 6/10\n",
        "14/14 [==============================] - 26s 2s/step - loss:\n",
        "0.1884 -\n",
        "accuracy: 0.9289 - val_loss: 0.1287 - val_accuracy: 0.9339 Epoch 7/10\n",
        "14/14 [==============================] - 28s 2s/step - loss: 0.1724 -\n",
        "accuracy: 0.9335 - val_loss: 0.0926 - val_accuracy: 0.9752 Epoch 8/10\n",
        "14/14 [==============================] - 26s 2s/step - loss: 0.1510 -\n",
        "accuracy: 0.9404 - val_loss: 0.0757 - val_accuracy: 0.9752 Epoch 9/10\n",
        "14/14 [==============================] - 26s 2s/step - loss:\n",
        "0.1732\n",
        "-\n",
        "accuracy: 0.9174 - val_loss: 0.0537 - val_accuracy: 0.9835\n",
        "Epoch 10/10\n",
        "14/14 [==============================] - 26s 2s/step - loss:\n",
        "0.1546\n",
        "-\n",
        "accuracy: 0.9312 - val_loss: 0.0573 - val_accuracy: 0.9835\n",
        "<keras.callbacks.History at 0x7f05d66a9c90>"
      ],
      "metadata": {
        "id": "AYYT3_ubR7-A"
      },
      "execution_count": null,
      "outputs": []
    },
    {
      "cell_type": "markdown",
      "source": [
        "Save The Model"
      ],
      "metadata": {
        "id": "g0i7npuISkYY"
      }
    },
    {
      "cell_type": "code",
      "source": [
        "model.save(\"forest1.h5\")"
      ],
      "metadata": {
        "id": "jP6WYMVISp4X"
      },
      "execution_count": null,
      "outputs": []
    },
    {
      "cell_type": "markdown",
      "source": [],
      "metadata": {
        "id": "o435ZqPWRRBr"
      }
    }
  ]
}