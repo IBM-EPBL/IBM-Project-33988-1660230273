{
  "nbformat": 4,
  "nbformat_minor": 0,
  "metadata": {
    "colab": {
      "provenance": [],
      "collapsed_sections": []
    },
    "kernelspec": {
      "name": "python3",
      "display_name": "Python 3"
    },
    "language_info": {
      "name": "python"
    }
  },
  "cells": [
    {
      "cell_type": "code",
      "execution_count": null,
      "metadata": {
        "id": "s2eHcCWXxEwc"
      },
      "outputs": [],
      "source": []
    },
    {
      "cell_type": "markdown",
      "source": [
        "Creating An Account In Twilio Service"
      ],
      "metadata": {
        "id": "Q2YhpP9wxO99"
      }
    },
    {
      "cell_type": "markdown",
      "source": [
        "Importing The ImageDataGenerator Library"
      ],
      "metadata": {
        "id": "eJ9ByRpxxUXo"
      }
    },
    {
      "cell_type": "code",
      "source": [
        "import keras\n",
        "from keras.preprocessing.image import ImageDataGenerator\n"
      ],
      "metadata": {
        "id": "thhWLdy6xVVv"
      },
      "execution_count": null,
      "outputs": []
    },
    {
      "cell_type": "markdown",
      "source": [
        "Define the parameters/arguments for ImageDataGenerator class"
      ],
      "metadata": {
        "id": "jPtfH3sBxZZs"
      }
    },
    {
      "cell_type": "code",
      "source": [
        "train_datagen=ImageDataGenerator(rescale=1./255,shear_range=0.2,\n",
        "rotation_range=180,zoom_range=0.2, horizontal_flip=True)\n",
        "test_datagen=ImageDataGenerator(rescale=1./255)\n"
      ],
      "metadata": {
        "id": "z1TEXzgTxcp1"
      },
      "execution_count": null,
      "outputs": []
    },
    {
      "cell_type": "markdown",
      "source": [
        "Applying ImageDataGenerator functionality to trainset"
      ],
      "metadata": {
        "id": "OZ6u5F1bxgZ6"
      }
    },
    {
      "cell_type": "code",
      "source": [
        "x_train=train_datagen.flow_from_directory(r'/content/drive/MyDrive/Dataset/train_set',\n",
        "target_size=(128,128),batch_size=32, class_mode='binary')\n",
        "Found 436 images belonging to 2 classes"
      ],
      "metadata": {
        "id": "2L1wXFoBxoxO"
      },
      "execution_count": null,
      "outputs": []
    },
    {
      "cell_type": "markdown",
      "source": [
        "Applying ImageDataGenerator functionality to testset"
      ],
      "metadata": {
        "id": "N2MHr3w9yDGl"
      }
    },
    {
      "cell_type": "code",
      "source": [
        "x_test=test_datagen.flow_from_directory(r'/content/drive/MyDrive/Dataset/test_set',\n",
        "target_size=(128,128),batch_size=32, class_mode='binary')\n",
        "Found 121 images belonging to 2 classes"
      ],
      "metadata": {
        "id": "6MUyH1SryIng"
      },
      "execution_count": null,
      "outputs": []
    },
    {
      "cell_type": "markdown",
      "source": [
        "Import model building libraries"
      ],
      "metadata": {
        "id": "a9hcYgmUyJgr"
      }
    },
    {
      "cell_type": "code",
      "source": [
        "#To define Linear initialisation import Sequential\n",
        "from keras.models import Sequential\n",
        "#To add layers import Dense\n",
        "from keras.layers import Dense\n",
        "#To create Convolution kernel import Convolution2D\n",
        "from keras.layers import Convolution2D\n",
        "#import Maxpooling layer\n",
        "from keras.layers import MaxPooling2D\n",
        "#import flatten layer\n",
        "from keras.layers import Flatten import\n",
        "warnings warnings.filterwarnings('ignore')"
      ],
      "metadata": {
        "id": "Quy5B-J4yNqD"
      },
      "execution_count": null,
      "outputs": []
    },
    {
      "cell_type": "markdown",
      "source": [
        "Initializing the model"
      ],
      "metadata": {
        "id": "MtDyHy0syRNr"
      }
    },
    {
      "cell_type": "code",
      "source": [
        "model=Sequential()"
      ],
      "metadata": {
        "id": "zUesqhM2yUqu"
      },
      "execution_count": null,
      "outputs": []
    },
    {
      "cell_type": "markdown",
      "source": [
        "Add CNN Layer"
      ],
      "metadata": {
        "id": "bDJn0lucyXqi"
      }
    },
    {
      "cell_type": "code",
      "source": [
        "model.add(Convolution2D(32, (3,3),input_shape=(128,128,3),activation='relu'))\n",
        "#add maxpooling layer\n",
        "model.add(MaxPooling2D(pool_size=(2,2)))\n",
        "#add flatten layer\n",
        "model.add(Flatten())"
      ],
      "metadata": {
        "id": "Tesk7quIygDO"
      },
      "execution_count": null,
      "outputs": []
    },
    {
      "cell_type": "markdown",
      "source": [
        "Add Dense Layer"
      ],
      "metadata": {
        "id": "K2S_Zn5fyhRq"
      }
    },
    {
      "cell_type": "code",
      "source": [
        "#add hidden layer\n",
        "model.add(Dense(150,activation='relu'))\n",
        "#add output layer\n",
        "model.add(Dense(1,activation='sigmoid'))"
      ],
      "metadata": {
        "id": "fKltzJ7Nyjaa"
      },
      "execution_count": null,
      "outputs": []
    },
    {
      "cell_type": "markdown",
      "source": [
        "Configure the learning process"
      ],
      "metadata": {
        "id": "7NvvtY09ymhL"
      }
    },
    {
      "cell_type": "code",
      "source": [
        "model.compile(loss='binary_crossentropy',optimizer=\"adam\",metrics=[\"accuracy\"])"
      ],
      "metadata": {
        "id": "FJUi0nqCyqK5"
      },
      "execution_count": null,
      "outputs": []
    },
    {
      "cell_type": "markdown",
      "source": [
        "Train the model"
      ],
      "metadata": {
        "id": "OVMSCzF-ys2R"
      }
    },
    {
      "cell_type": "code",
      "source": [
        "model.fit_generator(x_train,steps_per_epoch=14,epochs=10,validation_da\n",
        "ta=x_test,validation_steps=4)\n",
        "Epoch 1/10\n",
        "14/14 [==============================] - 205s 15s/step - loss: 2.7344 -\n",
        "accuracy: 0.7454 - val_loss: 0.2016 - val_accuracy: 0.9256\n",
        "Epoch 2/10\n",
        "14/14 [==============================] - 20s 1s/step - loss: accuracy: 0.8945 -\n",
        "val_loss: 0.2290 - val_accuracy: 0.9339\n",
        "Epoch 3/10\n",
        "14/14 [==============================] - 20s 1s/step - loss: accuracy: 0.8922 -\n",
        "val_loss: 0.0524 - val_accuracy: 0.9835\n",
        "Epoch 4/10\n",
        "14/14 [==============================] - 20s 1s/step - loss: accuracy: 0.9174 -\n",
        "val_loss: 0.1570 - val_accuracy: 0.9421\n",
        "Epoch 5/10\n",
        "14/14 [==============================] - 20s 1s/step - loss: accuracy: 0.9083 -\n",
        "val_loss: 0.0767 - val_accuracy: 0.9752\n",
        "Epoch 6/10\n",
        "14/14 [==============================] - 20s 1s/step - loss: accuracy: 0.9335 -\n",
        "val_loss: 0.0749 - val_accuracy: 0.9752\n",
        "Epoch 7/10\n",
        "14/14 [==============================] - 20s 1s/step - loss: accuracy: 0.9312 -\n",
        "val_loss: 0.1264 - val_accuracy: 0.9421\n",
        "Epoch 8/10\n",
        "14/14 [==============================] - 20s 1s/step - loss: accuracy: 0.9266 -\n",
        "val_loss: 0.0652 - val_accuracy: 0.9835\n",
        "Epoch 9/10\n",
        "14/14 [==============================] - 20s 1s/step - loss: accuracy: 0.9358 -\n",
        "val_loss: 0.0567 - val_accuracy: 0.9835\n",
        "Epoch 10/10\n",
        "14/14 [==============================] - 20s 1s/step - loss: accuracy: 0.9404 -\n",
        "val_loss: 0.0448 - val_accuracy: 0.9917\n",
        "0.3267 -\n",
        "0.2991 -\n",
        "0.2418 -\n",
        "0.1984 -\n",
        "0.1643 -\n",
        "0.1538 -\n",
        "0.1732 -\n",
        "0.1514 -\n",
        "0.1445 -\n",
        "<keras.callbacks.History at 0x7f51fdf33610>"
      ],
      "metadata": {
        "id": "lkHa6ZD-yvE-"
      },
      "execution_count": null,
      "outputs": []
    },
    {
      "cell_type": "markdown",
      "source": [
        "Save The Model "
      ],
      "metadata": {
        "id": "SduH2K_Xy2Zv"
      }
    },
    {
      "cell_type": "code",
      "source": [
        "model.save(\"forest1.h5\")"
      ],
      "metadata": {
        "id": "LVFV9VF3y7Wq"
      },
      "execution_count": null,
      "outputs": []
    },
    {
      "cell_type": "markdown",
      "source": [
        "Predictions "
      ],
      "metadata": {
        "id": "pOSHpXCLy8RA"
      }
    },
    {
      "cell_type": "code",
      "source": [
        "#import load_model from keras.model\n",
        "from keras.models import load_model\n",
        "#import image class from keras\n",
        "from tensorflow.keras.preprocessing import image #import numpy import numpy as\n",
        "np\n",
        "#import cv2\n",
        "import cv2\n",
        "#load the saved model\n",
        "model = load_model(\"forest1.h5\")\n",
        "img=image.load_img(r'/content/drive/MyDrive/Dataset/test_set/forest/\n",
        "0.48007200_1530881924_final_forest.jpg')\n",
        "x=image.img_to_array(img)\n",
        "res = cv2.resize(x, dsize=(128, 128), interpolation=cv2.INTER_CUBIC) #expand the\n",
        "image shape\n",
        "x=np.expand_dims(res,axis=0)\n",
        "pred= model.predict(x)\n",
        "1/1 [==============================] - 0s 94ms/step pred\n",
        "array([[0.]], dtype=float32)"
      ],
      "metadata": {
        "id": "-yYcDUhhy_LV"
      },
      "execution_count": null,
      "outputs": []
    },
    {
      "cell_type": "markdown",
      "source": [
        "OpenCV For Video Processing"
      ],
      "metadata": {
        "id": "oRGovWUKzDx2"
      }
    },
    {
      "cell_type": "markdown",
      "source": [
        "pip install twilio\n",
        "Looking in indexes: https://pypi.org/simple, https://uspython.pkg.dev/colab-wheels/public/simple/\n",
        "Collecting twilio\n",
        "Downloading twilio-7.15.1-py2.py3-none-any.whl (1.4 MB)\n",
        "ent already satisfied: pytz in /usr/local/lib/python3.7/dist-packages (from twilio)\n",
        "(2022.5)\n",
        "Collecting PyJWT<3.0.0,>=2.0.0\n",
        "Downloading PyJWT-2.6.0-py3-none-any.whl (20 kB)\n",
        "Requirement already satisfied: requests>=2.0.0 in /usr/local/lib/python3.7/distpackages (from twilio) (2.23.0) Requirement already satisfied: chardet<4,>=3.0.2 in\n",
        "/usr/local/lib/python3.7/dist-packages (from requests>=2.0.0->twilio) (3.0.4)\n",
        "Requirement already satisfied: idna<3,>=2.5 in /usr/local/lib/python3.7/dist-packages\n",
        "(from requests>=2.0.0->twilio)\n",
        "(2.10)\n",
        "Requirement already satisfied: certifi>=2017.4.17 in /usr/local/lib/python3.7/distpackages (from requests>=2.0.0->twilio) (2022.9.24)\n",
        "Requirement already satisfied: urllib3!=1.25.0,!=1.25.1,<1.26,>=1.21.1 in\n",
        "/usr/local/lib/python3.7/dist-packages (from requests>=2.0.0- >twilio) (1.24.3)\n",
        "Installing collected packages: PyJWT, twilio\n",
        "Successfully installed PyJWT-2.6.0 twilio-7.15.1\n",
        "pip install playsound\n",
        "Looking in indexes: https://pypi.org/simple, https://uspython.pkg.dev/colab-wheels/public/simple/\n",
        "Collecting playsound\n",
        "Downloading playsound-1.3.0.tar.gz (7.7 kB) Building wheels for collected\n",
        "packages: playsound\n",
        "Building wheel for playsound (setup.py) ... e=playsound-1.3.0-py3- none-any.whl\n",
        "size=7035\n",
        "sha256=e7e96c774a98522e182b59b7b292f0f932097658d8bfce86c922c363f862b0e\n",
        "2\n",
        "Stored in directory:\n",
        "/root/.cache/pip/wheels/ba/f8/bb/ea57c0146b664dca3a0ada4199b0ecb5f9dfc\n",
        "b7b7e22b65ba2\n",
        "Successfully built playsound\n",
        "Installing collected packages: playsound\n",
        "Successfully installed playsound-1.3.0 "
      ],
      "metadata": {
        "id": "fbDCmAOazgh3"
      }
    },
    {
      "cell_type": "code",
      "source": [
        "#import opencv library\n",
        "import cv2\n",
        "#import numpy\n",
        "import numpy as np\n",
        "#import image function from keras\n",
        "from keras.preprocessing import image\n",
        "#import load_model from keras\n",
        "from keras.models import load_model\n",
        "#import client from twilio API\n",
        "from twilio.rest import Client\n",
        "#import playsound package\n",
        "from playsound import playsound\n",
        "WARNING:playsound:playsound is relying on another python subprocess. Please\n",
        "use `pip install pygobject` if you want playsound to run more efficiently.\n",
        "#load the saved model\n",
        "model=load_model(\"forest1.h5\") #define video video=cv2.VideoCapture(0) #define\n",
        "the features name=['forest','with fire'] "
      ],
      "metadata": {
        "id": "s8J9EAAu8WWe"
      },
      "execution_count": null,
      "outputs": []
    },
    {
      "cell_type": "markdown",
      "source": [
        "Creating An Account In Twilio Service "
      ],
      "metadata": {
        "id": "SAbbiNAn8gTa"
      }
    },
    {
      "cell_type": "code",
      "source": [
        "account_sid='ACfb4e6d0e7b0d25def63044919f1b96e3'\n",
        "auth_token='f9ae4fc4a617a527da8672e97eefb2d8'\n",
        "client=Client(account_sid,auth_token)\n",
        "message=client.messages \\\n",
        ".create(\n",
        " body='Forest Fire is detected, stay alert',\n",
        " from_='+1 302 248 4366',\n",
        " to='+91 99400 12164'\n",
        ")\n",
        "print(message.sid)\n",
        "SM4aa5a4751b7bcec159dc4c695752293d"
      ],
      "metadata": {
        "id": "UGZZhYph9eJu"
      },
      "execution_count": null,
      "outputs": []
    },
    {
      "cell_type": "markdown",
      "source": [],
      "metadata": {
        "id": "wDqg_Rya9gkQ"
      }
    }
  ]
}