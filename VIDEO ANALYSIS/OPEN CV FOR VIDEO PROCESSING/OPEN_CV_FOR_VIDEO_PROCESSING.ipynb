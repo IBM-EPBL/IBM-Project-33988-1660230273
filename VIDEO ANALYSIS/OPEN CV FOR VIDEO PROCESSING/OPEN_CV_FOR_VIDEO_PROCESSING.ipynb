{
  "nbformat": 4,
  "nbformat_minor": 0,
  "metadata": {
    "colab": {
      "provenance": [],
      "collapsed_sections": []
    },
    "kernelspec": {
      "name": "python3",
      "display_name": "Python 3"
    },
    "language_info": {
      "name": "python"
    }
  },
  "cells": [
    {
      "cell_type": "markdown",
      "source": [
        "Importing The ImageDataGenerator Library\n"
      ],
      "metadata": {
        "id": "IF4wLLc0JCDe"
      }
    },
    {
      "cell_type": "code",
      "source": [
        "import keras\n",
        "from keras.preprocessing.image import ImageDataGenerator"
      ],
      "metadata": {
        "id": "Audf1XeWJEEX"
      },
      "execution_count": null,
      "outputs": []
    },
    {
      "cell_type": "markdown",
      "source": [
        "Define the parameters/arguments for ImageDataGenerator class"
      ],
      "metadata": {
        "id": "tc3O4yiXJHoM"
      }
    },
    {
      "cell_type": "code",
      "source": [
        "train_datagen=ImageDataGenerator(rescale=1./255,shear_range=0.2,rot\n",
        "ati on_range=180,zoom_range=0.2, horizontal_flip=True)\n",
        "test_datagen=ImageDataGenerator(rescale=1./255)"
      ],
      "metadata": {
        "id": "TGfxOT_uJNdE"
      },
      "execution_count": null,
      "outputs": []
    },
    {
      "cell_type": "markdown",
      "source": [
        "Applying ImageDataGenerator functionality to trainset"
      ],
      "metadata": {
        "id": "QIm-PsBfJSKJ"
      }
    },
    {
      "cell_type": "code",
      "source": [
        "x_train=train_datagen.flow_from_directory(r'/content/drive/MyDriv\n",
        "e/ Dataset/train_set',target_size=(128,128),batch_size=32,\n",
        "class_mode='binary')\n",
        "Found 436 images belonging to 2 classes."
      ],
      "metadata": {
        "id": "BDZr54aaJWgg"
      },
      "execution_count": null,
      "outputs": []
    },
    {
      "cell_type": "markdown",
      "source": [
        "Applying ImageDataGenerator functionality to testset"
      ],
      "metadata": {
        "id": "iVncaBLoJeOA"
      }
    },
    {
      "cell_type": "code",
      "source": [
        "x_test=test_datagen.flow_from_directory(r'/content/drive/MyDrive\n",
        "/ Dataset/test_set',target_size=(128,128),batch_size=32,\n",
        "class_mode='binary')"
      ],
      "metadata": {
        "id": "ZFG3AWanJhHb"
      },
      "execution_count": null,
      "outputs": []
    },
    {
      "cell_type": "markdown",
      "source": [
        "Found 121 images belonging to 2 classes."
      ],
      "metadata": {
        "id": "TQOcLUZEJmCz"
      }
    },
    {
      "cell_type": "markdown",
      "source": [
        "Import model building libraries"
      ],
      "metadata": {
        "id": "APnGNPggJqpI"
      }
    },
    {
      "cell_type": "code",
      "source": [
        "#To define Linear initialisation import Sequential\n",
        "from keras.models import Sequential\n",
        "#To add layers import Dense\n",
        "from keras.layers import Dense\n",
        "#To create Convolution kernel import Convolution2D\n",
        "from keras.layers import Convolution2D\n",
        "#import Maxpooling layer\n",
        "from keras.layers import MaxPooling2D\n",
        "#import flatten layer\n",
        "from keras.layers import Flatten\n",
        "import warnings\n",
        "warnings.filterwarnings('ignore')"
      ],
      "metadata": {
        "id": "DplwJTk4JvKJ"
      },
      "execution_count": null,
      "outputs": []
    },
    {
      "cell_type": "markdown",
      "source": [
        "Initializing the model"
      ],
      "metadata": {
        "id": "PYh6tjQZJycd"
      }
    },
    {
      "cell_type": "code",
      "source": [
        "model=Sequential()"
      ],
      "metadata": {
        "id": "IN5_S6hEJ1xy"
      },
      "execution_count": null,
      "outputs": []
    },
    {
      "cell_type": "markdown",
      "source": [
        "Add CNN Layer"
      ],
      "metadata": {
        "id": "suWbZiEzJ4wX"
      }
    },
    {
      "cell_type": "code",
      "source": [
        "model.add(Convolution2D(32,\n",
        "(3,3),input_shape=(128,128,3),activation='relu'))\n",
        "#add maxpooling layer\n",
        "model.add(MaxPooling2D(pool_size=(2,2)))\n",
        "#add flatten layer\n",
        "model.add(Flatten())"
      ],
      "metadata": {
        "id": "QSUg1Pp9J7Tq"
      },
      "execution_count": null,
      "outputs": []
    },
    {
      "cell_type": "markdown",
      "source": [
        "Add Hidden Layer"
      ],
      "metadata": {
        "id": "iOw1NGQwJ-Qi"
      }
    },
    {
      "cell_type": "code",
      "source": [
        "#add hidden layer\n",
        "model.add(Dense(150,activation='relu'))\n",
        "#add output layer\n",
        "model.add(Dense(1,activation='sigmoid'))"
      ],
      "metadata": {
        "id": "y70t7fTXKAtl"
      },
      "execution_count": null,
      "outputs": []
    },
    {
      "cell_type": "markdown",
      "source": [
        "Configure the learning process"
      ],
      "metadata": {
        "id": "Z-pDJhe_KIZM"
      }
    },
    {
      "cell_type": "code",
      "source": [
        "model.compile(loss='binary_crossentropy',optimizer=\"adam\",metrics=[\n",
        "\"ac curacy\"])"
      ],
      "metadata": {
        "id": "2xbojdkXKLuA"
      },
      "execution_count": null,
      "outputs": []
    },
    {
      "cell_type": "markdown",
      "source": [
        "Train the model"
      ],
      "metadata": {
        "id": "MEbp-qbNKOXu"
      }
    },
    {
      "cell_type": "code",
      "source": [
        "model.fit_generator(x_train,steps_per_epoch=14,epochs=10,validation_\n",
        "da ta=x_test,validation_steps=4)\n",
        "Epoch 1/10\n",
        "14/14 [==============================] - 97s 7s/step - loss:\n",
        "1.3060 -\n",
        "accuracy: 0.7775 - val_loss: 0.5513 - val_accuracy: 0.8512\n",
        "Epoch 2/10\n",
        "14/14 [==============================] - 26s 2s/step - loss:\n",
        "0.3178 -\n",
        "accuracy: 0.8807 - val_loss: 0.1299 - val_accuracy: 0.9421\n",
        "Epoch 3/10\n",
        "14/14 [==============================] - 26s 2s/step - loss:\n",
        "0.2226 -\n",
        "accuracy: 0.9106 - val_loss: 0.1311 - val_accuracy: 0.9421\n",
        "Epoch 4/10\n",
        "14/14 [==============================] - 31s 2s/step - loss:\n",
        "0.1836 -\n",
        "accuracy: 0.9174 - val_loss: 0.1129 - val_accuracy: 0.9339\n",
        "Epoch 5/10\n",
        "14/14 [==============================] - 30s 2s/step - loss:\n",
        "0.1675 -\n",
        "accuracy: 0.9243 - val_loss: 0.0925 - val_accuracy: 0.9669\n",
        "Epoch 6/10\n",
        "14/14 [==============================] - 26s 2s/step - loss:\n",
        "0.1884 -\n",
        "accuracy: 0.9289 - val_loss: 0.1287 - val_accuracy: 0.9339\n",
        "Epoch 7/10\n",
        "14/14 [==============================] - 28s 2s/step - loss:\n",
        "0.1724 -\n",
        "accuracy: 0.9335 - val_loss: 0.0926 - val_accuracy: 0.9752\n",
        "Epoch 8/10\n",
        "14/14 [==============================] - 26s 2s/step - loss:\n",
        "0.1510 -\n",
        "accuracy: 0.9404 - val_loss: 0.0757 - val_accuracy: 0.9752\n",
        "Epoch 9/10\n",
        "14/14 [==============================] - 26s\n",
        "2s/step - loss:\n",
        "0.173\n",
        "2\n",
        "-\n",
        "accuracy: 0.9174 - val_loss: 0.0537 - val_accuracy: 0.9835\n",
        "Epoch 10/10\n",
        "14/14 [==============================] - 26s\n",
        "2s/step - loss:\n",
        "0.154\n",
        "6\n",
        "-\n",
        "accuracy: 0.9312 - val_loss: 0.0573 - val_accuracy: 0.9835\n",
        "<keras.callbacks.History at 0x7f05d66a9c90>"
      ],
      "metadata": {
        "id": "7WV4CuExKS_a"
      },
      "execution_count": null,
      "outputs": []
    },
    {
      "cell_type": "markdown",
      "source": [
        "Save The Model"
      ],
      "metadata": {
        "id": "MCpVbw1AKhAj"
      }
    },
    {
      "cell_type": "code",
      "source": [
        "model.save(\"forest1.h5\")"
      ],
      "metadata": {
        "id": "zaosg86WKkKM"
      },
      "execution_count": null,
      "outputs": []
    },
    {
      "cell_type": "markdown",
      "source": [
        "Predictions"
      ],
      "metadata": {
        "id": "ev5wOj4xKm7E"
      }
    },
    {
      "cell_type": "code",
      "source": [
        "#import load_model\n",
        "from keras.model from\n",
        "keras.models import\n",
        "load_model #import\n",
        "image class from keras\n",
        "from tensorflow.keras.preprocessing import image #import\n",
        "numpy\n",
        "import numpy as np\n",
        "#import cv2\n",
        "import cv2\n",
        "#load the saved model\n",
        "model = load_model(\"forest1.h5\")\n",
        "img=image.load_img(r'/content/drive/MyDrive/Dataset/te\n",
        "st_set/forest/ 0.48007200_1530881924_final_forest.jpg')\n",
        "x=image.img_to_array(img)\n",
        "res = cv2.resize(x, dsize=(128, 128),\n",
        "interpolation=cv2.INTER_CUBIC)\n",
        "#expand the image shape\n",
        "x=np.expand_di\n",
        "ms(res,axis=0)\n",
        "pred=\n",
        "model.predict(x)\n",
        "1/1 [==============================] - 0s\n",
        "126ms/step\n",
        "pred\n",
        "array([[0.]], dtype=float32)"
      ],
      "metadata": {
        "id": "LZblHEqaN1fF"
      },
      "execution_count": null,
      "outputs": []
    },
    {
      "cell_type": "markdown",
      "source": [
        "OpenCV For Video Processing"
      ],
      "metadata": {
        "id": "Yd551xIDN-kE"
      }
    },
    {
      "cell_type": "markdown",
      "source": [
        "pip install twilio\n",
        "Looking in indexes: https://pypi.org/simple, https://uspython.pkg.dev/colab-wheels/public/simple/\n",
        "Requirement already satisfied: twilio in\n",
        "/usr/local/lib/python3.7/dist-packages (7.15.1)\n",
        "Requirement already satisfied: pytz in /usr/local/lib/python3.7/distpackages (from twilio) (2022.5)\n",
        "Requirement already satisfied: requests>=2.0.0 in\n",
        "/usr/local/lib/python3.7/dist-packages (from twilio) (2.23.0)\n",
        "Requirement already satisfied: PyJWT<3.0.0,>=2.0.0 in\n",
        "/usr/local/lib/python3.7/dist-packages (from twilio) (2.6.0) Requirement\n",
        "already satisfied: urllib3!=1.25.0,!=1.25.1,<1.26,>=1.21.1 in\n",
        "/usr/local/lib/python3.7/dist-packages (from requests>=2.0.0-\n",
        ">twilio) (1.24.3)\n",
        "Requirement already satisfied: certifi>=2017.4.17 in\n",
        "/usr/local/lib/python3.7/dist-packages (from requests>=2.0.0->twilio)\n",
        "(2022.9.24)\n",
        "Requirement already satisfied: idna<3,>=2.5 in\n",
        "/usr/local/lib/python3.7/dist-packages (from requests>=2.0.0->twilio)\n",
        "(2.10)\n",
        "Requirement already satisfied: chardet<4,>=3.0.2 in\n",
        "/usr/local/lib/python3.7/dist-packages (from requests>=2.0.0->twilio)\n",
        "(3.0.4)\n",
        "pip install playsound\n",
        "Looking in indexes: https://pypi.org/simple, https://uspython.pkg.dev/colab-wheels/public/simple/\n",
        "Requirement already satisfied: playsound in\n",
        "/usr/local/lib/python3.7/dist-packages (1.3.0)"
      ],
      "metadata": {
        "id": "neYf56-aOBWU"
      }
    },
    {
      "cell_type": "code",
      "source": [
        "#import opencv library\n",
        "import cv2\n",
        "#import numpy\n",
        "import numpy as np\n",
        "#import image function from keras\n",
        "from keras.preprocessing import\n",
        "image #import load_model from\n",
        "keras\n",
        "from keras.models import load_model\n",
        "#import client from twilio API\n",
        "from twilio.rest import Client\n",
        "#import playsound package\n",
        "from playsound import playsound\n",
        "#load the saved model\n",
        "model=load_model(\"forest1.h\n",
        "5\") #define video\n",
        "video=cv2.VideoCapture(0)\n",
        "#define the features\n",
        "name=['forest','with fire']"
      ],
      "metadata": {
        "id": "MyoU3OytOHpm"
      },
      "execution_count": null,
      "outputs": []
    },
    {
      "cell_type": "markdown",
      "source": [
        "WARNING:playsound:playsound is relying on another python\n",
        "subprocess. Please use `pip install pygobject` if you want playsound to\n",
        "run more efficiently."
      ],
      "metadata": {
        "id": "W2CKdY3kOOSX"
      }
    },
    {
      "cell_type": "code",
      "source": [],
      "metadata": {
        "id": "D7crL3kIOcq_"
      },
      "execution_count": null,
      "outputs": []
    }
  ]
}